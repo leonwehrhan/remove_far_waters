{
 "cells": [
  {
   "cell_type": "code",
   "execution_count": 1,
   "metadata": {},
   "outputs": [],
   "source": [
    "import time\n",
    "from context import remove_far_waters\n",
    "import mdtraj as md\n",
    "import numpy as np"
   ]
  },
  {
   "cell_type": "code",
   "execution_count": 2,
   "metadata": {},
   "outputs": [],
   "source": [
    "sample_trj = 'data/bc_1.xtc'\n",
    "sample_ref = 'data/md_ref.pdb'"
   ]
  },
  {
   "cell_type": "code",
   "execution_count": 3,
   "metadata": {},
   "outputs": [],
   "source": [
    "def timer(func_):\n",
    "    '''Decorator for timing functions.'''\n",
    "    def function_timer(*args, **kwargs):\n",
    "        start = time.time()\n",
    "        result = func_(*args, **kwargs)\n",
    "        stop = time.time()\n",
    "        runtime = stop - start\n",
    "        print(f'Completed {func_.__name__} in runtime of {runtime:10.2f} seconds.')\n",
    "        \n",
    "        return result\n",
    "    return function_timer"
   ]
  },
  {
   "cell_type": "code",
   "execution_count": 4,
   "metadata": {},
   "outputs": [
    {
     "name": "stdout",
     "output_type": "stream",
     "text": [
      "Number of Frames: \t 1001\n",
      "Number of Atoms: \t 40833\n"
     ]
    }
   ],
   "source": [
    "t = md.load(sample_trj, top=sample_ref)\n",
    "print(f'Number of Frames: \\t {t.n_frames}')\n",
    "print(f'Number of Atoms: \\t {t.n_atoms}')"
   ]
  },
  {
   "cell_type": "markdown",
   "metadata": {},
   "source": [
    "### Remove Far Waters"
   ]
  },
  {
   "cell_type": "code",
   "execution_count": 34,
   "metadata": {},
   "outputs": [
    {
     "name": "stdout",
     "output_type": "stream",
     "text": [
      "Trajectory with 1001 frames and 40833 atoms.\n",
      "36705 water atoms in trajectory.\n",
      "Completed init_removewaters in runtime of       3.28 seconds.\n"
     ]
    }
   ],
   "source": [
    "@timer\n",
    "def init_removewaters():\n",
    "    t = md.load(sample_trj, top=sample_ref)\n",
    "\n",
    "    a = remove_far_waters.RemoveWaters(t, sel_query='resid 237', sel='protein', n_waters=100, cutoff=1., verbose=True)\n",
    "    \n",
    "init_removewaters()"
   ]
  },
  {
   "cell_type": "code",
   "execution_count": 35,
   "metadata": {},
   "outputs": [
    {
     "name": "stdout",
     "output_type": "stream",
     "text": [
      "Trajectory with 1001 frames and 40833 atoms.\n",
      "36705 water atoms in trajectory.\n",
      "Found 47 water molecules within 1.0 nm.\n",
      "Completed static_search in runtime of       3.69 seconds.\n"
     ]
    }
   ],
   "source": [
    "@timer\n",
    "def static_search():\n",
    "    t = md.load(sample_trj, top=sample_ref)\n",
    "    a = remove_far_waters.RemoveWaters(t, sel_query='resid 237', sel='protein', n_waters=100, cutoff=1., verbose=True)\n",
    "    t_new = a.static_search()\n",
    "    \n",
    "static_search()"
   ]
  },
  {
   "cell_type": "code",
   "execution_count": 5,
   "metadata": {},
   "outputs": [
    {
     "name": "stdout",
     "output_type": "stream",
     "text": [
      "Trajectory with 1001 frames and 40833 atoms.\n",
      "36705 water atoms in trajectory.\n",
      "Distance calculation completed.\n",
      "Found a maximum of 55 water molecules within a cutoff of 0.5 nm.\n",
      "verification complete.\n",
      "Completed dynamic_search in runtime of      87.41 seconds.\n"
     ]
    }
   ],
   "source": [
    "@timer\n",
    "def dynamic_search():\n",
    "    t = md.load(sample_trj, top=sample_ref)\n",
    "    a = remove_far_waters.RemoveWaters(t, sel_query='resid 237', sel='protein', n_waters=100, cutoff=0.5, verbose=True)\n",
    "    t_new = a.dynamic_search()\n",
    "    verify = remove_far_waters.verify(t, t_new, 'trj_dynamic.txt', errors=True, verbose=True)\n",
    "    if verify:\n",
    "        print('verification complete.')\n",
    "\n",
    "dynamic_search()"
   ]
  },
  {
   "cell_type": "code",
   "execution_count": 6,
   "metadata": {},
   "outputs": [
    {
     "name": "stdout",
     "output_type": "stream",
     "text": [
      "Completed dynamic_zero in runtime of       6.02 seconds.\n"
     ]
    }
   ],
   "source": [
    "@timer\n",
    "def dynamic_zero():\n",
    "    t = md.load(sample_trj, top=sample_ref)\n",
    "    a = remove_far_waters.RemoveWaters(t, sel_query='resid 237', sel='protein', n_waters=10, cutoff=0.5)\n",
    "    t_new = a.dynamic_zero()\n",
    "\n",
    "dynamic_zero()"
   ]
  },
  {
   "cell_type": "code",
   "execution_count": null,
   "metadata": {},
   "outputs": [],
   "source": []
  }
 ],
 "metadata": {
  "kernelspec": {
   "display_name": "Python 3.6 (py36_base)",
   "language": "python",
   "name": "py36_base"
  },
  "language_info": {
   "codemirror_mode": {
    "name": "ipython",
    "version": 3
   },
   "file_extension": ".py",
   "mimetype": "text/x-python",
   "name": "python",
   "nbconvert_exporter": "python",
   "pygments_lexer": "ipython3",
   "version": "3.6.7"
  }
 },
 "nbformat": 4,
 "nbformat_minor": 2
}
