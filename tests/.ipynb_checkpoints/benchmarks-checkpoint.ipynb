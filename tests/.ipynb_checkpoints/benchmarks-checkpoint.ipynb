{
 "cells": [
  {
   "cell_type": "code",
   "execution_count": 1,
   "metadata": {},
   "outputs": [],
   "source": [
    "import time\n",
    "from context import remove_far_waters\n",
    "import mdtraj as md\n",
    "import numpy as np"
   ]
  },
  {
   "cell_type": "code",
   "execution_count": 2,
   "metadata": {},
   "outputs": [],
   "source": [
    "sample_trj = 'data/bc_1.xtc'\n",
    "sample_ref = 'data/md_ref.pdb'"
   ]
  },
  {
   "cell_type": "code",
   "execution_count": 3,
   "metadata": {},
   "outputs": [],
   "source": [
    "def timer(func_):\n",
    "    '''Decorator for timing functions.'''\n",
    "    def function_timer(*args, **kwargs):\n",
    "        start = time.time()\n",
    "        result = func_(*args, **kwargs)\n",
    "        stop = time.time()\n",
    "        runtime = stop - start\n",
    "        print(f'Completed {func_.__name__} in runtime of {runtime:10.2f} seconds.')\n",
    "        \n",
    "        return result\n",
    "    return function_timer"
   ]
  },
  {
   "cell_type": "code",
   "execution_count": 4,
   "metadata": {},
   "outputs": [
    {
     "name": "stdout",
     "output_type": "stream",
     "text": [
      "Number of Frames: \t 1001\n",
      "Number of Atoms: \t 40833\n"
     ]
    }
   ],
   "source": [
    "t = md.load(sample_trj, top=sample_ref)\n",
    "print(f'Number of Frames: \\t {t.n_frames}')\n",
    "print(f'Number of Atoms: \\t {t.n_atoms}')"
   ]
  },
  {
   "cell_type": "markdown",
   "metadata": {},
   "source": [
    "### Remove Far Waters"
   ]
  },
  {
   "cell_type": "code",
   "execution_count": 5,
   "metadata": {},
   "outputs": [
    {
     "name": "stdout",
     "output_type": "stream",
     "text": [
      "Completed init_removewaters in runtime of       3.27 seconds.\n"
     ]
    }
   ],
   "source": [
    "@timer\n",
    "def init_removewaters():\n",
    "    t = md.load(sample_trj, top=sample_ref)\n",
    "\n",
    "    a = remove_far_waters.RemoveWaters(t, sel_query='resid 237', sel='protein', n_waters=100, cutoff=1., verbose=True)\n",
    "    \n",
    "init_removewaters()"
   ]
  },
  {
   "cell_type": "code",
   "execution_count": 6,
   "metadata": {},
   "outputs": [
    {
     "name": "stdout",
     "output_type": "stream",
     "text": [
      "Completed static_search in runtime of       3.75 seconds.\n"
     ]
    }
   ],
   "source": [
    "@timer\n",
    "def static_search():\n",
    "    t = md.load(sample_trj, top=sample_ref)\n",
    "    a = remove_far_waters.RemoveWaters(t, sel_query='resid 237', sel='protein', n_waters=100, cutoff=1., verbose=True)\n",
    "    t_new = a.static_search()\n",
    "    \n",
    "static_search()"
   ]
  },
  {
   "cell_type": "code",
   "execution_count": 5,
   "metadata": {},
   "outputs": [
    {
     "name": "stdout",
     "output_type": "stream",
     "text": [
      "Trajectory with 1001 frames and 40833 atoms.\n",
      "36705 water atoms in trajectory.\n",
      "There is a total of 2145 unique water molecules that ever get closer than 0.5 nm to the query residue.\n",
      "Found a maximum of 55 water molecules within 0.5 nm.\n"
     ]
    },
    {
     "ename": "ValueError",
     "evalue": "could not broadcast input array from shape (5) into shape (55)",
     "output_type": "error",
     "traceback": [
      "\u001b[0;31m---------------------------------------------------------------------------\u001b[0m",
      "\u001b[0;31mValueError\u001b[0m                                Traceback (most recent call last)",
      "\u001b[0;32m<ipython-input-5-65c7c1a52092>\u001b[0m in \u001b[0;36m<module>\u001b[0;34m\u001b[0m\n\u001b[1;32m      5\u001b[0m     \u001b[0mt_new\u001b[0m \u001b[0;34m=\u001b[0m \u001b[0ma\u001b[0m\u001b[0;34m.\u001b[0m\u001b[0mdynamic_search\u001b[0m\u001b[0;34m(\u001b[0m\u001b[0;34m)\u001b[0m\u001b[0;34m\u001b[0m\u001b[0;34m\u001b[0m\u001b[0m\n\u001b[1;32m      6\u001b[0m \u001b[0;34m\u001b[0m\u001b[0m\n\u001b[0;32m----> 7\u001b[0;31m \u001b[0mdynamic_search\u001b[0m\u001b[0;34m(\u001b[0m\u001b[0;34m)\u001b[0m\u001b[0;34m\u001b[0m\u001b[0;34m\u001b[0m\u001b[0m\n\u001b[0m",
      "\u001b[0;32m<ipython-input-3-2d1659ef8008>\u001b[0m in \u001b[0;36mfunction_timer\u001b[0;34m(*args, **kwargs)\u001b[0m\n\u001b[1;32m      3\u001b[0m     \u001b[0;32mdef\u001b[0m \u001b[0mfunction_timer\u001b[0m\u001b[0;34m(\u001b[0m\u001b[0;34m*\u001b[0m\u001b[0margs\u001b[0m\u001b[0;34m,\u001b[0m \u001b[0;34m**\u001b[0m\u001b[0mkwargs\u001b[0m\u001b[0;34m)\u001b[0m\u001b[0;34m:\u001b[0m\u001b[0;34m\u001b[0m\u001b[0;34m\u001b[0m\u001b[0m\n\u001b[1;32m      4\u001b[0m         \u001b[0mstart\u001b[0m \u001b[0;34m=\u001b[0m \u001b[0mtime\u001b[0m\u001b[0;34m.\u001b[0m\u001b[0mtime\u001b[0m\u001b[0;34m(\u001b[0m\u001b[0;34m)\u001b[0m\u001b[0;34m\u001b[0m\u001b[0;34m\u001b[0m\u001b[0m\n\u001b[0;32m----> 5\u001b[0;31m         \u001b[0mresult\u001b[0m \u001b[0;34m=\u001b[0m \u001b[0mfunc_\u001b[0m\u001b[0;34m(\u001b[0m\u001b[0;34m*\u001b[0m\u001b[0margs\u001b[0m\u001b[0;34m,\u001b[0m \u001b[0;34m**\u001b[0m\u001b[0mkwargs\u001b[0m\u001b[0;34m)\u001b[0m\u001b[0;34m\u001b[0m\u001b[0;34m\u001b[0m\u001b[0m\n\u001b[0m\u001b[1;32m      6\u001b[0m         \u001b[0mstop\u001b[0m \u001b[0;34m=\u001b[0m \u001b[0mtime\u001b[0m\u001b[0;34m.\u001b[0m\u001b[0mtime\u001b[0m\u001b[0;34m(\u001b[0m\u001b[0;34m)\u001b[0m\u001b[0;34m\u001b[0m\u001b[0;34m\u001b[0m\u001b[0m\n\u001b[1;32m      7\u001b[0m         \u001b[0mruntime\u001b[0m \u001b[0;34m=\u001b[0m \u001b[0mstop\u001b[0m \u001b[0;34m-\u001b[0m \u001b[0mstart\u001b[0m\u001b[0;34m\u001b[0m\u001b[0;34m\u001b[0m\u001b[0m\n",
      "\u001b[0;32m<ipython-input-5-65c7c1a52092>\u001b[0m in \u001b[0;36mdynamic_search\u001b[0;34m()\u001b[0m\n\u001b[1;32m      3\u001b[0m     \u001b[0mt\u001b[0m \u001b[0;34m=\u001b[0m \u001b[0mmd\u001b[0m\u001b[0;34m.\u001b[0m\u001b[0mload\u001b[0m\u001b[0;34m(\u001b[0m\u001b[0msample_trj\u001b[0m\u001b[0;34m,\u001b[0m \u001b[0mtop\u001b[0m\u001b[0;34m=\u001b[0m\u001b[0msample_ref\u001b[0m\u001b[0;34m)\u001b[0m\u001b[0;34m\u001b[0m\u001b[0;34m\u001b[0m\u001b[0m\n\u001b[1;32m      4\u001b[0m     \u001b[0ma\u001b[0m \u001b[0;34m=\u001b[0m \u001b[0mremove_far_waters\u001b[0m\u001b[0;34m.\u001b[0m\u001b[0mRemoveWaters\u001b[0m\u001b[0;34m(\u001b[0m\u001b[0mt\u001b[0m\u001b[0;34m,\u001b[0m \u001b[0msel_query\u001b[0m\u001b[0;34m=\u001b[0m\u001b[0;34m'resid 237'\u001b[0m\u001b[0;34m,\u001b[0m \u001b[0msel\u001b[0m\u001b[0;34m=\u001b[0m\u001b[0;34m'protein'\u001b[0m\u001b[0;34m,\u001b[0m \u001b[0mn_waters\u001b[0m\u001b[0;34m=\u001b[0m\u001b[0;36m100\u001b[0m\u001b[0;34m,\u001b[0m \u001b[0mcutoff\u001b[0m\u001b[0;34m=\u001b[0m\u001b[0;36m0.5\u001b[0m\u001b[0;34m,\u001b[0m \u001b[0mverbose\u001b[0m\u001b[0;34m=\u001b[0m\u001b[0;32mTrue\u001b[0m\u001b[0;34m)\u001b[0m\u001b[0;34m\u001b[0m\u001b[0;34m\u001b[0m\u001b[0m\n\u001b[0;32m----> 5\u001b[0;31m     \u001b[0mt_new\u001b[0m \u001b[0;34m=\u001b[0m \u001b[0ma\u001b[0m\u001b[0;34m.\u001b[0m\u001b[0mdynamic_search\u001b[0m\u001b[0;34m(\u001b[0m\u001b[0;34m)\u001b[0m\u001b[0;34m\u001b[0m\u001b[0;34m\u001b[0m\u001b[0m\n\u001b[0m\u001b[1;32m      6\u001b[0m \u001b[0;34m\u001b[0m\u001b[0m\n\u001b[1;32m      7\u001b[0m \u001b[0mdynamic_search\u001b[0m\u001b[0;34m(\u001b[0m\u001b[0;34m)\u001b[0m\u001b[0;34m\u001b[0m\u001b[0;34m\u001b[0m\u001b[0m\n",
      "\u001b[0;32m~/scripts/remove_far_waters/remove_far_waters.py\u001b[0m in \u001b[0;36mdynamic_search\u001b[0;34m(self)\u001b[0m\n\u001b[1;32m    242\u001b[0m             \u001b[0marg_sorted_frame\u001b[0m \u001b[0;34m=\u001b[0m \u001b[0mnp\u001b[0m\u001b[0;34m.\u001b[0m\u001b[0margsort\u001b[0m\u001b[0;34m(\u001b[0m\u001b[0mtrj_neighbour_dist\u001b[0m\u001b[0;34m[\u001b[0m\u001b[0mi_frame\u001b[0m\u001b[0;34m]\u001b[0m\u001b[0;34m)\u001b[0m\u001b[0;34m\u001b[0m\u001b[0;34m\u001b[0m\u001b[0m\n\u001b[1;32m    243\u001b[0m             \u001b[0mr_sorted_frame\u001b[0m \u001b[0;34m=\u001b[0m \u001b[0mresid_frame\u001b[0m\u001b[0;34m[\u001b[0m\u001b[0marg_sorted_frame\u001b[0m\u001b[0;34m]\u001b[0m\u001b[0;34m\u001b[0m\u001b[0;34m\u001b[0m\u001b[0m\n\u001b[0;32m--> 244\u001b[0;31m             \u001b[0mclosest_water_res\u001b[0m\u001b[0;34m[\u001b[0m\u001b[0mi_frame\u001b[0m\u001b[0;34m]\u001b[0m \u001b[0;34m=\u001b[0m \u001b[0mr_sorted_frame\u001b[0m\u001b[0;34m[\u001b[0m\u001b[0;34m:\u001b[0m\u001b[0mself\u001b[0m\u001b[0;34m.\u001b[0m\u001b[0mn_waters\u001b[0m\u001b[0;34m]\u001b[0m\u001b[0;34m\u001b[0m\u001b[0;34m\u001b[0m\u001b[0m\n\u001b[0m\u001b[1;32m    245\u001b[0m \u001b[0;34m\u001b[0m\u001b[0m\n\u001b[1;32m    246\u001b[0m         \u001b[0;31m# atom indices of closest water atoms\u001b[0m\u001b[0;34m\u001b[0m\u001b[0;34m\u001b[0m\u001b[0;34m\u001b[0m\u001b[0m\n",
      "\u001b[0;31mValueError\u001b[0m: could not broadcast input array from shape (5) into shape (55)"
     ]
    }
   ],
   "source": [
    "@timer\n",
    "def dynamic_search():\n",
    "    t = md.load(sample_trj, top=sample_ref)\n",
    "    a = remove_far_waters.RemoveWaters(t, sel_query='resid 237', sel='protein', n_waters=100, cutoff=0.5, verbose=True)\n",
    "    t_new = a.dynamic_search()\n",
    "\n",
    "dynamic_search()"
   ]
  },
  {
   "cell_type": "code",
   "execution_count": 5,
   "metadata": {},
   "outputs": [
    {
     "name": "stdout",
     "output_type": "stream",
     "text": [
      "[[[5.5280004 7.5030003 2.4850001]\n",
      "  [5.525     7.53      2.388    ]\n",
      "  [5.623     7.498     2.519    ]\n",
      "  ...\n",
      "  [0.        0.        0.       ]\n",
      "  [0.        0.        0.       ]\n",
      "  [0.        0.        0.       ]]\n",
      "\n",
      " [[5.518     7.4990005 2.466    ]\n",
      "  [5.5540004 7.5380006 2.3790002]\n",
      "  [5.596     7.4630003 2.516    ]\n",
      "  ...\n",
      "  [0.        0.        0.       ]\n",
      "  [0.        0.        0.       ]\n",
      "  [0.        0.        0.       ]]\n",
      "\n",
      " [[5.505     7.4900002 2.499    ]\n",
      "  [5.518     7.543     2.413    ]\n",
      "  [5.598     7.4670005 2.532    ]\n",
      "  ...\n",
      "  [0.        0.        0.       ]\n",
      "  [0.        0.        0.       ]\n",
      "  [0.        0.        0.       ]]\n",
      "\n",
      " ...\n",
      "\n",
      " [[5.5010004 7.4860005 2.417    ]\n",
      "  [5.517     7.537     2.3300002]\n",
      "  [5.5940003 7.4730005 2.4520001]\n",
      "  ...\n",
      "  [0.        0.        0.       ]\n",
      "  [0.        0.        0.       ]\n",
      "  [0.        0.        0.       ]]\n",
      "\n",
      " [[5.511     7.439     2.4380002]\n",
      "  [5.577     7.484     2.375    ]\n",
      "  [5.5680003 7.385     2.5      ]\n",
      "  ...\n",
      "  [0.        0.        0.       ]\n",
      "  [0.        0.        0.       ]\n",
      "  [0.        0.        0.       ]]\n",
      "\n",
      " [[5.5200005 7.4830003 2.4380002]\n",
      "  [5.5230002 7.5470004 2.3600001]\n",
      "  [5.6120005 7.4610004 2.4740002]\n",
      "  ...\n",
      "  [0.        0.        0.       ]\n",
      "  [0.        0.        0.       ]\n",
      "  [0.        0.        0.       ]]]\n",
      "Completed dynamic_zero in runtime of      19.59 seconds.\n"
     ]
    }
   ],
   "source": [
    "@timer\n",
    "def dynamic_zero():\n",
    "    t = md.load(sample_trj, top=sample_ref)\n",
    "    a = remove_far_waters.RemoveWaters(t, sel_query='resid 237', sel='protein', n_waters=10, cutoff=0.5)\n",
    "    t_new = a.dynamic_zero()\n",
    "\n",
    "dynamic_zero()"
   ]
  },
  {
   "cell_type": "code",
   "execution_count": 2,
   "metadata": {},
   "outputs": [],
   "source": [
    "t = md.load('data/sample.xtc', top='data/sample.pdb')\n",
    "t_red = md.load('data/sample_reduced.xtc', top='data/sample_reduced.pdb')"
   ]
  },
  {
   "cell_type": "code",
   "execution_count": 3,
   "metadata": {},
   "outputs": [
    {
     "data": {
      "text/plain": [
       "(10, 47301, 3)"
      ]
     },
     "execution_count": 3,
     "metadata": {},
     "output_type": "execute_result"
    }
   ],
   "source": [
    "t.xyz.shape"
   ]
  },
  {
   "cell_type": "code",
   "execution_count": 7,
   "metadata": {},
   "outputs": [
    {
     "data": {
      "text/plain": [
       "(8, 'oxygen', 'O', 15.99943, 0.152)"
      ]
     },
     "execution_count": 7,
     "metadata": {},
     "output_type": "execute_result"
    }
   ],
   "source": [
    "md.element.Element.getBySymbol('O')"
   ]
  },
  {
   "cell_type": "code",
   "execution_count": 8,
   "metadata": {},
   "outputs": [],
   "source": [
    "import json"
   ]
  },
  {
   "cell_type": "code",
   "execution_count": 16,
   "metadata": {},
   "outputs": [],
   "source": [
    "di = {'tip3p':[{'name':'H1', 'element':'H'},\n",
    "               {'name':'H2', 'element':'H'},\n",
    "               {'name':'O', 'element':'O'}]}"
   ]
  },
  {
   "cell_type": "code",
   "execution_count": 20,
   "metadata": {},
   "outputs": [
    {
     "data": {
      "text/plain": [
       "dict"
      ]
     },
     "execution_count": 20,
     "metadata": {},
     "output_type": "execute_result"
    }
   ],
   "source": [
    "type(json.loads(json.dumps(di)))"
   ]
  },
  {
   "cell_type": "code",
   "execution_count": 34,
   "metadata": {},
   "outputs": [
    {
     "data": {
      "text/plain": [
       "(43208,)"
      ]
     },
     "execution_count": 34,
     "metadata": {},
     "output_type": "execute_result"
    }
   ],
   "source": [
    "np.concatenate([[a.index for a in r.atoms] for r in t.top.residues if r.is_water]).shape"
   ]
  },
  {
   "cell_type": "code",
   "execution_count": 49,
   "metadata": {},
   "outputs": [
    {
     "data": {
      "text/plain": [
       "array([4, 2, 1])"
      ]
     },
     "execution_count": 49,
     "metadata": {},
     "output_type": "execute_result"
    }
   ],
   "source": [
    "a = np.array([0.5, 0.1, 0.3, 0.6, 0.2, 0.58])\n",
    "\n",
    "np.argpartition(a, 3)[:3]"
   ]
  },
  {
   "cell_type": "code",
   "execution_count": 13,
   "metadata": {},
   "outputs": [
    {
     "data": {
      "text/plain": [
       "array([2, 1, 4, 0, 3])"
      ]
     },
     "execution_count": 13,
     "metadata": {},
     "output_type": "execute_result"
    }
   ],
   "source": [
    "a = np.random.rand(5)\n",
    "np.argsort(a)"
   ]
  },
  {
   "cell_type": "code",
   "execution_count": 9,
   "metadata": {},
   "outputs": [
    {
     "data": {
      "text/plain": [
       "[0, 1, 2, 3]"
      ]
     },
     "execution_count": 9,
     "metadata": {},
     "output_type": "execute_result"
    }
   ],
   "source": [
    "li = []\n",
    "[li.append(x) for x in range(4)]\n",
    "li"
   ]
  },
  {
   "cell_type": "code",
   "execution_count": 6,
   "metadata": {},
   "outputs": [
    {
     "data": {
      "text/plain": [
       "<mdtraj.Trajectory with 1001 frames, 40833 atoms, 12530 residues, and unitcells at 0x7fb391c20e48>"
      ]
     },
     "execution_count": 6,
     "metadata": {},
     "output_type": "execute_result"
    }
   ],
   "source": [
    "t = md.load(sample_trj, top=sample_ref)\n",
    "t"
   ]
  },
  {
   "cell_type": "code",
   "execution_count": 15,
   "metadata": {},
   "outputs": [],
   "source": [
    "water_ids = []\n",
    "for r in t.top.residues:\n",
    "    if r.is_water:\n",
    "        for a in r.atoms:\n",
    "            water_ids.append(a.index)"
   ]
  },
  {
   "cell_type": "code",
   "execution_count": 17,
   "metadata": {},
   "outputs": [
    {
     "data": {
      "text/plain": [
       "36705"
      ]
     },
     "execution_count": 17,
     "metadata": {},
     "output_type": "execute_result"
    }
   ],
   "source": [
    "len(water_ids)"
   ]
  },
  {
   "cell_type": "code",
   "execution_count": 18,
   "metadata": {},
   "outputs": [
    {
     "name": "stdout",
     "output_type": "stream",
     "text": [
      "27.303410291671753\n"
     ]
    }
   ],
   "source": [
    "import itertools\n",
    "pairs = itertools.product(range(10), water_ids)\n",
    "pairs = np.array(list(pairs))\n",
    "\n",
    "start = time.time()\n",
    "dist = md.compute_distances(traj=t,\n",
    "                            atom_pairs=pairs)\n",
    "stop=time.time()\n",
    "print(stop - start)"
   ]
  },
  {
   "cell_type": "code",
   "execution_count": 29,
   "metadata": {},
   "outputs": [
    {
     "data": {
      "text/plain": [
       "array([3.9746778, 3.9194453, 4.063946 , ..., 4.9294224, 4.849994 ,\n",
       "       4.973589 ], dtype=float32)"
      ]
     },
     "execution_count": 29,
     "metadata": {},
     "output_type": "execute_result"
    }
   ],
   "source": [
    "dist[0]"
   ]
  },
  {
   "cell_type": "code",
   "execution_count": 30,
   "metadata": {},
   "outputs": [
    {
     "data": {
      "text/plain": [
       "array([[   0, 4114],\n",
       "       [   0, 4115],\n",
       "       [   0, 4116],\n",
       "       ...,\n",
       "       [   9, 6256],\n",
       "       [   9, 6257],\n",
       "       [   9, 6258]])"
      ]
     },
     "execution_count": 30,
     "metadata": {},
     "output_type": "execute_result"
    }
   ],
   "source": [
    "pairs"
   ]
  },
  {
   "cell_type": "code",
   "execution_count": 12,
   "metadata": {},
   "outputs": [],
   "source": [
    "a = np.random.rand(55)\n",
    "b = np.random.rand(5)"
   ]
  },
  {
   "cell_type": "code",
   "execution_count": 42,
   "metadata": {},
   "outputs": [
    {
     "data": {
      "text/plain": [
       "array([ True, False, False, False, False, False, False, False, False,\n",
       "       False])"
      ]
     },
     "execution_count": 42,
     "metadata": {},
     "output_type": "execute_result"
    }
   ],
   "source": [
    "a[0] = 0\n",
    "mask = a == 0\n",
    "mask"
   ]
  },
  {
   "cell_type": "code",
   "execution_count": 14,
   "metadata": {},
   "outputs": [
    {
     "ename": "ValueError",
     "evalue": "could not broadcast input array from shape (5) into shape (10)",
     "output_type": "error",
     "traceback": [
      "\u001b[0;31m---------------------------------------------------------------------------\u001b[0m",
      "\u001b[0;31mValueError\u001b[0m                                Traceback (most recent call last)",
      "\u001b[0;32m<ipython-input-14-0e8337b0d253>\u001b[0m in \u001b[0;36m<module>\u001b[0;34m\u001b[0m\n\u001b[0;32m----> 1\u001b[0;31m \u001b[0ma\u001b[0m\u001b[0;34m[\u001b[0m\u001b[0;34m:\u001b[0m\u001b[0;36m10\u001b[0m\u001b[0;34m]\u001b[0m \u001b[0;34m=\u001b[0m \u001b[0mb\u001b[0m\u001b[0;34m\u001b[0m\u001b[0;34m\u001b[0m\u001b[0m\n\u001b[0m",
      "\u001b[0;31mValueError\u001b[0m: could not broadcast input array from shape (5) into shape (10)"
     ]
    }
   ],
   "source": [
    "a[:10] = b"
   ]
  },
  {
   "cell_type": "code",
   "execution_count": 13,
   "metadata": {},
   "outputs": [
    {
     "data": {
      "text/plain": [
       "array([0.31620165, 0.83418651, 0.50056769, 0.83240022, 0.96270099,\n",
       "       0.7100035 , 0.87479213, 0.60259608, 0.27268092, 0.69550949,\n",
       "       0.98791587, 0.03293446, 0.35855444, 0.03077275, 0.44422897,\n",
       "       0.60413269, 0.76317333, 0.34850963, 0.05127194, 0.87277032,\n",
       "       0.03220336, 0.46233676, 0.56607114, 0.11897121, 0.28497386,\n",
       "       0.70636529, 0.83436278, 0.2145948 , 0.19710539, 0.5762413 ,\n",
       "       0.78447318, 0.18760299, 0.95734924, 0.00635409, 0.02823479,\n",
       "       0.22532557, 0.19909454, 0.80051201, 0.61849791, 0.95726671,\n",
       "       0.92737767, 0.85806875, 0.36444924, 0.46880895, 0.15152372,\n",
       "       0.88188592, 0.90799295, 0.88668498, 0.19906369, 0.47123784,\n",
       "       0.80678981, 0.60206355, 0.69877401, 0.18511143, 0.69870527])"
      ]
     },
     "execution_count": 13,
     "metadata": {},
     "output_type": "execute_result"
    }
   ],
   "source": [
    "a"
   ]
  },
  {
   "cell_type": "code",
   "execution_count": null,
   "metadata": {},
   "outputs": [],
   "source": []
  }
 ],
 "metadata": {
  "kernelspec": {
   "display_name": "Python 3.6 (py36_base)",
   "language": "python",
   "name": "py36_base"
  },
  "language_info": {
   "codemirror_mode": {
    "name": "ipython",
    "version": 3
   },
   "file_extension": ".py",
   "mimetype": "text/x-python",
   "name": "python",
   "nbconvert_exporter": "python",
   "pygments_lexer": "ipython3",
   "version": "3.6.7"
  }
 },
 "nbformat": 4,
 "nbformat_minor": 2
}
