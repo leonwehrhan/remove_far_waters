{
 "cells": [
  {
   "cell_type": "code",
   "execution_count": 1,
   "metadata": {},
   "outputs": [],
   "source": [
    "import time\n",
    "from context import remove_far_waters\n",
    "import mdtraj as md\n",
    "import numpy as np"
   ]
  },
  {
   "cell_type": "code",
   "execution_count": 2,
   "metadata": {},
   "outputs": [],
   "source": [
    "sample_trj = 'data/bc_1.xtc'\n",
    "sample_ref = 'data/md_ref.pdb'"
   ]
  },
  {
   "cell_type": "code",
   "execution_count": 3,
   "metadata": {},
   "outputs": [],
   "source": [
    "def timer(func_):\n",
    "    '''Decorator for timing functions.'''\n",
    "    def function_timer(*args, **kwargs):\n",
    "        start = time.time()\n",
    "        result = func_(*args, **kwargs)\n",
    "        stop = time.time()\n",
    "        runtime = stop - start\n",
    "        print(f'Completed {func_.__name__} in runtime of {runtime:10.2f} seconds.')\n",
    "        \n",
    "        return result\n",
    "    return function_timer"
   ]
  },
  {
   "cell_type": "code",
   "execution_count": 4,
   "metadata": {},
   "outputs": [
    {
     "name": "stdout",
     "output_type": "stream",
     "text": [
      "Number of Frames: \t 1001\n",
      "Number of Atoms: \t 40833\n"
     ]
    }
   ],
   "source": [
    "t = md.load(sample_trj, top=sample_ref)\n",
    "print(f'Number of Frames: \\t {t.n_frames}')\n",
    "print(f'Number of Atoms: \\t {t.n_atoms}')"
   ]
  },
  {
   "cell_type": "markdown",
   "metadata": {},
   "source": [
    "### Remove Far Waters"
   ]
  },
  {
   "cell_type": "code",
   "execution_count": 34,
   "metadata": {},
   "outputs": [
    {
     "name": "stdout",
     "output_type": "stream",
     "text": [
      "Trajectory with 1001 frames and 40833 atoms.\n",
      "36705 water atoms in trajectory.\n",
      "Completed init_removewaters in runtime of       3.28 seconds.\n"
     ]
    }
   ],
   "source": [
    "@timer\n",
    "def init_removewaters():\n",
    "    t = md.load(sample_trj, top=sample_ref)\n",
    "\n",
    "    a = remove_far_waters.RemoveWaters(t, sel_query='resid 237', sel='protein', n_waters=100, cutoff=1., verbose=True)\n",
    "    \n",
    "init_removewaters()"
   ]
  },
  {
   "cell_type": "code",
   "execution_count": 35,
   "metadata": {},
   "outputs": [
    {
     "name": "stdout",
     "output_type": "stream",
     "text": [
      "Trajectory with 1001 frames and 40833 atoms.\n",
      "36705 water atoms in trajectory.\n",
      "Found 47 water molecules within 1.0 nm.\n",
      "Completed static_search in runtime of       3.69 seconds.\n"
     ]
    }
   ],
   "source": [
    "@timer\n",
    "def static_search():\n",
    "    t = md.load(sample_trj, top=sample_ref)\n",
    "    a = remove_far_waters.RemoveWaters(t, sel_query='resid 237', sel='protein', n_waters=100, cutoff=1., verbose=True)\n",
    "    t_new = a.static_search()\n",
    "    \n",
    "static_search()"
   ]
  },
  {
   "cell_type": "code",
   "execution_count": 5,
   "metadata": {},
   "outputs": [
    {
     "name": "stdout",
     "output_type": "stream",
     "text": [
      "Trajectory with 1001 frames and 40833 atoms.\n",
      "36705 water atoms in trajectory.\n",
      "Distance calculation completed.\n",
      "Minimum distance to water residues calculated.\n",
      "Found a maximum of 55 water molecules within a cutoff of 0.5 nm.\n",
      "Completed dynamic_search in runtime of      87.12 seconds.\n"
     ]
    }
   ],
   "source": [
    "@timer\n",
    "def dynamic_search():\n",
    "    t = md.load(sample_trj, top=sample_ref)\n",
    "    a = remove_far_waters.RemoveWaters(t, sel_query='resid 237', sel='protein', n_waters=100, cutoff=0.5, verbose=True)\n",
    "    t_new = a.dynamic_search()\n",
    "\n",
    "dynamic_search()"
   ]
  },
  {
   "cell_type": "code",
   "execution_count": 5,
   "metadata": {},
   "outputs": [
    {
     "name": "stdout",
     "output_type": "stream",
     "text": [
      "[[[5.5280004 7.5030003 2.4850001]\n",
      "  [5.525     7.53      2.388    ]\n",
      "  [5.623     7.498     2.519    ]\n",
      "  ...\n",
      "  [0.        0.        0.       ]\n",
      "  [0.        0.        0.       ]\n",
      "  [0.        0.        0.       ]]\n",
      "\n",
      " [[5.518     7.4990005 2.466    ]\n",
      "  [5.5540004 7.5380006 2.3790002]\n",
      "  [5.596     7.4630003 2.516    ]\n",
      "  ...\n",
      "  [0.        0.        0.       ]\n",
      "  [0.        0.        0.       ]\n",
      "  [0.        0.        0.       ]]\n",
      "\n",
      " [[5.505     7.4900002 2.499    ]\n",
      "  [5.518     7.543     2.413    ]\n",
      "  [5.598     7.4670005 2.532    ]\n",
      "  ...\n",
      "  [0.        0.        0.       ]\n",
      "  [0.        0.        0.       ]\n",
      "  [0.        0.        0.       ]]\n",
      "\n",
      " ...\n",
      "\n",
      " [[5.5010004 7.4860005 2.417    ]\n",
      "  [5.517     7.537     2.3300002]\n",
      "  [5.5940003 7.4730005 2.4520001]\n",
      "  ...\n",
      "  [0.        0.        0.       ]\n",
      "  [0.        0.        0.       ]\n",
      "  [0.        0.        0.       ]]\n",
      "\n",
      " [[5.511     7.439     2.4380002]\n",
      "  [5.577     7.484     2.375    ]\n",
      "  [5.5680003 7.385     2.5      ]\n",
      "  ...\n",
      "  [0.        0.        0.       ]\n",
      "  [0.        0.        0.       ]\n",
      "  [0.        0.        0.       ]]\n",
      "\n",
      " [[5.5200005 7.4830003 2.4380002]\n",
      "  [5.5230002 7.5470004 2.3600001]\n",
      "  [5.6120005 7.4610004 2.4740002]\n",
      "  ...\n",
      "  [0.        0.        0.       ]\n",
      "  [0.        0.        0.       ]\n",
      "  [0.        0.        0.       ]]]\n",
      "Completed dynamic_zero in runtime of      19.59 seconds.\n"
     ]
    }
   ],
   "source": [
    "@timer\n",
    "def dynamic_zero():\n",
    "    t = md.load(sample_trj, top=sample_ref)\n",
    "    a = remove_far_waters.RemoveWaters(t, sel_query='resid 237', sel='protein', n_waters=10, cutoff=0.5)\n",
    "    t_new = a.dynamic_zero()\n",
    "\n",
    "dynamic_zero()"
   ]
  },
  {
   "cell_type": "code",
   "execution_count": 2,
   "metadata": {},
   "outputs": [],
   "source": [
    "t = md.load('data/sample.xtc', top='data/sample.pdb')\n",
    "t_red = md.load('data/sample_reduced.xtc', top='data/sample_reduced.pdb')"
   ]
  },
  {
   "cell_type": "code",
   "execution_count": 3,
   "metadata": {},
   "outputs": [
    {
     "data": {
      "text/plain": [
       "(10, 47301, 3)"
      ]
     },
     "execution_count": 3,
     "metadata": {},
     "output_type": "execute_result"
    }
   ],
   "source": [
    "t.xyz.shape"
   ]
  },
  {
   "cell_type": "code",
   "execution_count": 7,
   "metadata": {},
   "outputs": [
    {
     "data": {
      "text/plain": [
       "(8, 'oxygen', 'O', 15.99943, 0.152)"
      ]
     },
     "execution_count": 7,
     "metadata": {},
     "output_type": "execute_result"
    }
   ],
   "source": [
    "md.element.Element.getBySymbol('O')"
   ]
  },
  {
   "cell_type": "code",
   "execution_count": 8,
   "metadata": {},
   "outputs": [],
   "source": [
    "import json"
   ]
  },
  {
   "cell_type": "code",
   "execution_count": 16,
   "metadata": {},
   "outputs": [],
   "source": [
    "di = {'tip3p':[{'name':'H1', 'element':'H'},\n",
    "               {'name':'H2', 'element':'H'},\n",
    "               {'name':'O', 'element':'O'}]}"
   ]
  },
  {
   "cell_type": "code",
   "execution_count": 20,
   "metadata": {},
   "outputs": [
    {
     "data": {
      "text/plain": [
       "dict"
      ]
     },
     "execution_count": 20,
     "metadata": {},
     "output_type": "execute_result"
    }
   ],
   "source": [
    "type(json.loads(json.dumps(di)))"
   ]
  },
  {
   "cell_type": "code",
   "execution_count": 34,
   "metadata": {},
   "outputs": [
    {
     "data": {
      "text/plain": [
       "(43208,)"
      ]
     },
     "execution_count": 34,
     "metadata": {},
     "output_type": "execute_result"
    }
   ],
   "source": [
    "np.concatenate([[a.index for a in r.atoms] for r in t.top.residues if r.is_water]).shape"
   ]
  },
  {
   "cell_type": "code",
   "execution_count": 49,
   "metadata": {},
   "outputs": [
    {
     "data": {
      "text/plain": [
       "array([4, 2, 1])"
      ]
     },
     "execution_count": 49,
     "metadata": {},
     "output_type": "execute_result"
    }
   ],
   "source": [
    "a = np.array([0.5, 0.1, 0.3, 0.6, 0.2, 0.58])\n",
    "\n",
    "np.argpartition(a, 3)[:3]"
   ]
  },
  {
   "cell_type": "code",
   "execution_count": 13,
   "metadata": {},
   "outputs": [
    {
     "data": {
      "text/plain": [
       "array([2, 1, 4, 0, 3])"
      ]
     },
     "execution_count": 13,
     "metadata": {},
     "output_type": "execute_result"
    }
   ],
   "source": [
    "a = np.random.rand(5)\n",
    "np.argsort(a)"
   ]
  },
  {
   "cell_type": "code",
   "execution_count": 9,
   "metadata": {},
   "outputs": [
    {
     "data": {
      "text/plain": [
       "[0, 1, 2, 3]"
      ]
     },
     "execution_count": 9,
     "metadata": {},
     "output_type": "execute_result"
    }
   ],
   "source": [
    "li = []\n",
    "[li.append(x) for x in range(4)]\n",
    "li"
   ]
  },
  {
   "cell_type": "code",
   "execution_count": 5,
   "metadata": {},
   "outputs": [
    {
     "data": {
      "text/plain": [
       "<mdtraj.Trajectory with 1001 frames, 40833 atoms, 12530 residues, and unitcells at 0x7fe9c5c8ef28>"
      ]
     },
     "execution_count": 5,
     "metadata": {},
     "output_type": "execute_result"
    }
   ],
   "source": [
    "t = md.load(sample_trj, top=sample_ref)\n",
    "t"
   ]
  },
  {
   "cell_type": "code",
   "execution_count": 8,
   "metadata": {},
   "outputs": [],
   "source": [
    "water_ids = []\n",
    "water_res = []\n",
    "for r in t.top.residues:\n",
    "    if r.is_water:\n",
    "        water_res.append(r.index)\n",
    "        for a in r.atoms:\n",
    "            water_ids.append(a.index)"
   ]
  },
  {
   "cell_type": "code",
   "execution_count": 9,
   "metadata": {},
   "outputs": [
    {
     "data": {
      "text/plain": [
       "36705"
      ]
     },
     "execution_count": 9,
     "metadata": {},
     "output_type": "execute_result"
    }
   ],
   "source": [
    "water_ids = np.array(water_ids)\n",
    "water_res = np.array(water_res)\n",
    "len(water_ids)"
   ]
  },
  {
   "cell_type": "code",
   "execution_count": 16,
   "metadata": {},
   "outputs": [],
   "source": [
    "import itertools\n",
    "pairs = itertools.product(range(10), water_ids)\n",
    "pairs = np.array(list(pairs))\n",
    "\n",
    "res_of_pairs = np.zeros(len(pairs), dtype=int)\n",
    "for i_pair, pair in enumerate(pairs):\n",
    "    a = t.top.atom(pair[1])\n",
    "    res_of_pairs[i_pair] = a.residue.index\n",
    "\n",
    "test = [False for x in res_of_pairs]"
   ]
  },
  {
   "cell_type": "code",
   "execution_count": 17,
   "metadata": {},
   "outputs": [],
   "source": [
    "dist = md.compute_distances(traj=t,\n",
    "                            atom_pairs=pairs)"
   ]
  },
  {
   "cell_type": "code",
   "execution_count": 40,
   "metadata": {},
   "outputs": [
    {
     "name": "stdout",
     "output_type": "stream",
     "text": [
      "9.344743728637695\n"
     ]
    }
   ],
   "source": [
    "start = time.time()\n",
    "dist_res = np.array([dist[:, res_of_pairs == rid] for rid in water_res])\n",
    "min_dist_res = np.amin(dist_res, axis=2)\n",
    "trj_dist_res = min_dist_res.T\n",
    "stop=time.time()\n",
    "print(stop - start)"
   ]
  },
  {
   "cell_type": "code",
   "execution_count": 30,
   "metadata": {},
   "outputs": [
    {
     "data": {
      "text/plain": [
       "(12235, 1001, 30)"
      ]
     },
     "execution_count": 30,
     "metadata": {},
     "output_type": "execute_result"
    }
   ],
   "source": [
    "dist_res.shape"
   ]
  },
  {
   "cell_type": "code",
   "execution_count": 39,
   "metadata": {},
   "outputs": [
    {
     "data": {
      "text/plain": [
       "(1001, 12235)"
      ]
     },
     "execution_count": 39,
     "metadata": {},
     "output_type": "execute_result"
    }
   ],
   "source": [
    "np.amin(dist_res, axis=2).T.shape"
   ]
  },
  {
   "cell_type": "code",
   "execution_count": 31,
   "metadata": {},
   "outputs": [
    {
     "data": {
      "text/plain": [
       "12235"
      ]
     },
     "execution_count": 31,
     "metadata": {},
     "output_type": "execute_result"
    }
   ],
   "source": [
    "for "
   ]
  },
  {
   "cell_type": "code",
   "execution_count": null,
   "metadata": {},
   "outputs": [],
   "source": []
  }
 ],
 "metadata": {
  "kernelspec": {
   "display_name": "Python 3.6 (py36_base)",
   "language": "python",
   "name": "py36_base"
  },
  "language_info": {
   "codemirror_mode": {
    "name": "ipython",
    "version": 3
   },
   "file_extension": ".py",
   "mimetype": "text/x-python",
   "name": "python",
   "nbconvert_exporter": "python",
   "pygments_lexer": "ipython3",
   "version": "3.6.7"
  }
 },
 "nbformat": 4,
 "nbformat_minor": 2
}
